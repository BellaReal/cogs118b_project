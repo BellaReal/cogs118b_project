{
 "cells": [
  {
   "cell_type": "markdown",
   "metadata": {},
   "source": [
    "# COGS 118B - Project Proposal"
   ]
  },
  {
   "cell_type": "markdown",
   "metadata": {
    "jp-MarkdownHeadingCollapsed": true
   },
   "source": [
    "# Names\n",
    "\n",
    "- Hunter Flores\n",
    "- Isabella Real\n",
    "- Harvey Yang"
   ]
  },
  {
   "cell_type": "markdown",
   "metadata": {},
   "source": [
    "# Abstract \n",
    "\n",
    "Given the COVID-19 data dataset and population statistics of countries around the world, the objective is to cluster based on confirmed cases, confirmed deaths, excess mortality, hospital & ICU, policy responses, reproduction rate, tests & positivity, vaccinations, and country statistics, with the goal of finding the relationship between countries and time. The data used represent 67 variables relating to COVID-19, and 376884 observations, where each of them represent one location and date. We will clean them up so that they can be directly used for our purpose, including renaming and clearing up the redundant columns and indices. Then, we will use K-Means and GMM to cluster the data in order to determine relationships between countries, and see how variables interact over time. Dimensional reduction may also be applied to those models, and potentially an evaluation on influence of the factors that might decrease the number of cases. As we are choosing K-Means and GMM as our tools, we will use silhouette score and distortion measure to determine the optional number of clusters."
   ]
  },
  {
   "cell_type": "markdown",
   "metadata": {},
   "source": [
    "# Background\n",
    "\n",
    "The pandemic has led to significant morbidity and mortality, overwhelmed healthcare systems, disrupted global supply chains, and caused widespread economic and social upheaval, while posing a huge challenge to education which is closely related to us students<a name=\"daniel\"></a>[<sup>[1]</sup>](#daniel).\n",
    "Thus, there has been a great public interest in studying the pandemic, covering its epidemiology, transmission dynamics, clinical manifestations, socio-economic effects, mental health impacts, and the effectiveness of interventions, including non-pharmaceutical interventions (NPIs) and vaccines<a name=\"who\"></a>[<sup>[2]</sup>](#who).\n",
    "\n",
    "Prior work involves lots of dimensions of studies. Previous studies have applied clustering algorithms to COVID-19 data to group countries or regions by similar epidemic characteristics or responses.<a name=\"kucharski\"></a>[<sup>[3]</sup>](#kucharski)\n",
    "Research has also used mathematical modeling to help estimate outbreak dynamics and provide decision guidelines for successful outbreak control.<a name=\"peirlinck\"></a>[<sup>[4]</sup>](#peirlinck)\n",
    "Therefore, based on all these prior studies done on COVID-19, we are interested in looking at all the aspects of statistics used in evaluation, which can be clustered into different categories. "
   ]
  },
  {
   "cell_type": "markdown",
   "metadata": {},
   "source": [
    "# Problem Statement\n",
    "\n",
    "Given the COVID-19 data dataset and population statistics of countries around the world, the objective is to cluster based on confirmed cases, confirmed deaths, excess mortality, hospital & ICU, policy responses, reproduction rate, tests & positivity, vaccinations, and country statistics, with the goal of finding the relationship between countries and time. What variables affect the number of cases the most? How do the variables change over time?\n"
   ]
  },
  {
   "cell_type": "markdown",
   "metadata": {},
   "source": [
    "# Data\n",
    "\n",
    "* https://github.com/owid/covid-19-data/tree/master/public/data\n",
    "* This dataset contains a total of 376884 rows (observations) × 67 columns (variables)\n",
    "* Each observation consists of information from a given date about the number of cases, deaths, vaccinations, and other data about the population like the number of female and male smokers, diabetes rates, and other statistics.\n",
    "* Some critical variables are:\n",
    "  - “total_cases” -> total number of confirmed cases of covid-19 (includes probable cases)\n",
    "  - “new_cases” -> number of new confirmed cases in a day (includes probable cases)\n",
    "  - “new_cases_smoothed” -> new_cases smoothed over 7 days\n",
    "  - “total_deaths” -> total number of deaths resulting from covid-19 including probable deaths\n",
    "  - “new_deaths” -> number of deaths daily caused by covid-19 in a day\n",
    "  - “new_deaths_smoothed” -> new_deaths smoothed over 7 days\n",
    "  - “excess_mortality” -> difference between predicted number of deaths and actual number of deaths for 2020-2021 by percentage\n",
    "  - “icu_patients” -> number of patients in intensive care units with covid-19 in a day\n",
    "  - “hosp_patients” -> number of patients in hospitals with covid-19 in a day\n",
    "  - “weekly_icu_admissions” -> number of icu patients admitted with covid-19 including patients admitted on recorded date and all 6 days prior\n",
    "  - “weekly_hosp_admissions” -> number of hospital patients admitted with covid-19 including patients admitted on recorded date and all 6 days prior\n",
    "  - “stringency_index” -> value between 0 and 100 measuring strictness of response composed of nine different responses “The nine metrics used to calculate the Stringency Index are: school closures; workplace closures; cancellation of public events; restrictions on public gatherings; closures of public transport; stay-at-home requirements; public information campaigns; restrictions on internal movements; and international travel controls” (https://ourworldindata.org/covid-stringency-index)\n",
    "  - “reproduction_rate” -> estimate of the reproductive rate of covid-19\n",
    "  - “total_tests” -> total number of covid-19 tests taken\n",
    "  - “total_vaccinations” -> total number of covid-19 vaccinations administered\n",
    "  - “location” -> name of country where observation took place\n",
    "  - “date” -> date of observation in year-month-day format\n",
    "  - “diabetes_prevelance” -> percent of the population between 20-79 with diabetes as of 2017\n",
    "  - “male_smokers”/”female_smokers” -> percent of population that smoke (by sex)\n",
    "* A lot of the data is sparse, so we will need to handle the data points that are missing.  In addition to this, a lot of the data is probably redundant (for example the number of handwashing stations, population…) So in order to handle this we propose having two different data frames.  One data frame to represent each country's more or less unchanging statistics over the course of this four year period and another that contains data that changes over time (number of cases, deaths, number of vaccinations…)\n"
   ]
  },
  {
   "cell_type": "markdown",
   "metadata": {},
   "source": [
    "# Proposed Solution\n",
    "\n",
    "Our solution includes using K-Means and GMM to cluster the data in order to determine relationships between countries and also see how variables interact over time. We will compare the two methods to see which is more effective utilizing evaluative metrics. We also hope to compare the effect of dimensionality reduction on these models. We will also attempt a predictive task to try to determine what variables are most influential in decreasing the number of cases."
   ]
  },
  {
   "cell_type": "markdown",
   "metadata": {},
   "source": [
    "# Evaluation Metrics\n",
    "\n",
    "As we are using K-Means and GMM, we will use silhouette score and distortion measure to determine the optional number of clusters. \n",
    "\n",
    "### Silhouette Score\n",
    "Mathematically, Silhouette score is calculated by:\n",
    "$$ \\text{Silhouette Score} = \\frac{b-a}{max(a,b)} $$\n",
    "Where:\n",
    "$a$ is the mean distance between a sample and all other points in the same cluster.\n",
    "$b$ is the mean distance between a sample and all other points in the next nearest cluster.\n",
    "A higher Silhouette Score implies better clustering.\n",
    "\n",
    "### Distortion Measure\n",
    "Distortion measures the compactness of the clusters. It is the sum of squared distances between each data point and the centroid of its assigned cluster. Mathematically, for a dataset with $n$ data points and $k$ clusters, distortion measure is calculated by:\n",
    "$$ \\text{Distortion} = \\sum^n_{i=1} \\sum^k_{j=1} d(x_i, c_j)^2 $$\n",
    "Where $x_i$ is the $i$-th data point and $c_j$ is the centroid of the $j$-th cluster, and $d$ is the distance between $x_i$ and $c_j$. \n"
   ]
  },
  {
   "cell_type": "markdown",
   "metadata": {},
   "source": [
    "# Ethics & Privacy"
   ]
  },
  {
   "cell_type": "markdown",
   "metadata": {},
   "source": [
    "Data privacy can be one of the most concerning aspects of the internet to the public nowadays. Although our data is mostly on the country level, and all the data is anonymized, it is still crucial to ensure that personal data cannot be de-anonymized to protect personal information of the public. \n",
    "\n",
    "One other ethical concern is that we, the Machine Learning engineers, are humans, and are also subject to the common logical biases, which may in turn influence our judgment of the study done in the process of evaluating the data and achieving our goal in this project. \n",
    "\n",
    "Another potential impact of this project is the impression it leaves to the public, which can be different to each individual, potentially leading to misuse and misunderstanding of the project in a negative way."
   ]
  },
  {
   "cell_type": "markdown",
   "metadata": {},
   "source": [
    "# Team Expectations "
   ]
  },
  {
   "cell_type": "markdown",
   "metadata": {},
   "source": [
    "* *We would try our best and split the work equally so that we all contribute to the project and nobody is overwhelmed.*\n",
    "* *If an emergency happens to anybody, we should be compassionate and understanding of the situation.*\n",
    "* *We would primarily communicate through text, and sometimes on Zoom to do that more efficiently before important dates (e.g. project due date).*\n",
    "* *If we encounter any conflicts, we should try to be calm, step back and consider things from the other's point of view, and then talk and discuss it together. In more difficult cases, we should turn to the teaching team for mediation.*\n"
   ]
  },
  {
   "cell_type": "markdown",
   "metadata": {},
   "source": [
    "# Project Timeline Proposal"
   ]
  },
  {
   "cell_type": "markdown",
   "metadata": {},
   "source": [
    "| Meeting Date  | Meeting Time| Completed Before Meeting  | Discuss at Meeting |\n",
    "|---|---|---|---|\n",
    "| 2/18  |  11 AM |  Brainstorm topics/questions | Determine best form of communication; Discuss and decide on final project topic; discuss hypothesis; begin background research | \n",
    "| 2/19  |  5 PM |  Do background research on topic (Harvey) | Discuss ideal dataset(s) (Hunter and Bella) and ethics (Harvey); draft project proposal | \n",
    "| 2/20  | 12:30-4 PM  | Search for datasets and finalize problem | Discuss wrangling and possible analytical approaches as well as decide on a dataset; Edit, finalize, and submit proposal|\n",
    "| 3/6  | 6 PM  | Do some exploratory analysis of the data; Work on clustering (K-Means and GMM) | Review EDA and discuss analysis plan |\n",
    "| 3/13  | 12 PM  | Work on code for project; Work on clustering with dimensionality reduction| Discuss/edit project code; Complete project |\n",
    "| 3/16  | 12 PM  | Complete analysis; Draft results/conclusion/discussion| Discuss/edit full project |\n",
    "| 3/20  | Before 11:59 PM  | Turn in Final Project | Turn in Final Project  |"
   ]
  },
  {
   "cell_type": "markdown",
   "metadata": {
    "jp-MarkdownHeadingCollapsed": true
   },
   "source": [
    "# Footnotes\n",
    "\n",
    "<a name=\"daniel\"></a>1.[^](#daniel): Daniel, Sir John. “Education and the COVID-19 Pandemic - Prospects.” SpringerLink, Springer Netherlands, 20 Apr. 2020, https://link.springer.com/article/10.1007/s11125-020-09464-3.<br>\n",
    "\n",
    "<a name=\"who\"></a>2.[^](#who): “Impact of Covid-19 on People’s Livelihoods, Their Health and Our Food Systems.” World Health Organization, World Health Organization, 13 Oct. 2020, www.who.int/news/item/13-10-2020-impact-of-covid-19-on-people’s-livelihoods-their-health-and-our-food-systems.<br>\n",
    "\n",
    "<a name=\"kucharski\"></a>3.[^](#kucharski): Kucharski, Adam J et al. “Early dynamics of transmission and control of COVID-19: a mathematical modelling study.” The Lancet. Infectious diseases vol. 20,5 (2020): 553-558. https://pubmed.ncbi.nlm.nih.gov/32171059/<br>\n",
    "\n",
    "<a name=\"peirlinck\"></a>4.[^](#peirlinck): Peirlinck, Mathias et al. “Outbreak dynamics of COVID-19 in China and the United States.” Biomechanics and modeling in mechanobiology vol. 19,6 (2020): 2179-2193. https://pubmed.ncbi.nlm.nih.gov/32342242/<br>"
   ]
  }
 ],
 "metadata": {
  "kernelspec": {
   "display_name": "Python 3 (ipykernel)",
   "language": "python",
   "name": "python3"
  },
  "language_info": {
   "codemirror_mode": {
    "name": "ipython",
    "version": 3
   },
   "file_extension": ".py",
   "mimetype": "text/x-python",
   "name": "python",
   "nbconvert_exporter": "python",
   "pygments_lexer": "ipython3",
   "version": "3.10.9"
  }
 },
 "nbformat": 4,
 "nbformat_minor": 4
}
